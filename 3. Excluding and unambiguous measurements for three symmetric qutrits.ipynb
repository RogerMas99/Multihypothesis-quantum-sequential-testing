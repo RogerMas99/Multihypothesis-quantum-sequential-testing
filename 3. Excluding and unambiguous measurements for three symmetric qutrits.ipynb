{
 "cells": [
  {
   "cell_type": "markdown",
   "metadata": {},
   "source": [
    "# 3. Excluding and unambiguous measurements for three symmetric qutrits "
   ]
  },
  {
   "cell_type": "markdown",
   "metadata": {},
   "source": [
    "In this notebook unambiguous and excluding measurement strategies are applied to three symmetric qutrits.\n",
    "The excluding strategy mantains the excluding POVM which, as it has been discused in the main work, it is not optimal (once one state is discriminated we should change to unambiguous measurement).\n",
    "\n",
    "Cells 1-3 define the needed parameters and functions.\n",
    "\n",
    "Cell 4 computes a loop of sequential tests with fixed error and plots the average n vs the overlap c for both measurements."
   ]
  },
  {
   "cell_type": "code",
   "execution_count": 1,
   "metadata": {},
   "outputs": [],
   "source": [
    "import numpy as np\n",
    "import matplotlib.pyplot as plt\n",
    "import cmath"
   ]
  },
  {
   "cell_type": "code",
   "execution_count": 2,
   "metadata": {},
   "outputs": [],
   "source": [
    "def probability_matrix(states, POVMs):\n",
    "    prob_matrix = np.zeros((len(states), len(POVMs)),dtype = 'complex_')\n",
    "    for k in range(len(states)):\n",
    "        for i in range(len(POVMs)):\n",
    "            prob_matrix[k,i] = np.dot(np.dot(np.transpose(np.conjugate(states[k])),POVMs[i]),states[k])\n",
    "    return np.real(prob_matrix)   \n",
    "\n",
    "def likelihood_ratio(tirs,prob_matrix, priors):\n",
    "    a,b,c = priors[0],priors[1],priors[2]\n",
    "    # prob_matrix[0].shape[1] és el nombre de outputs\n",
    "    for k in range(prob_matrix[0].shape[0]):\n",
    "        a *=  prob_matrix[0,k]**tirs[k]\n",
    "        b *=  prob_matrix[1,k]**tirs[k]\n",
    "        c *=  prob_matrix[2,k]**tirs[k]\n",
    "    return np.array((a/(a+b+c),b/(a+b+c), c/(a+b+c)))"
   ]
  },
  {
   "cell_type": "code",
   "execution_count": 3,
   "metadata": {},
   "outputs": [],
   "source": [
    "u = np.array((1, cmath.exp(1j*(2*np.pi/3)),cmath.exp(1j*(4*np.pi/3))))\n",
    "U = cmath.exp(-1j*(4*np.pi/3))*np.diag(u)\n",
    "alpha = 0.001\n",
    "prior0= 1/3\n",
    "prior1 = 1/3\n",
    "prior2 = 1/3\n",
    "priors = [prior0,prior1,prior2]"
   ]
  },
  {
   "cell_type": "code",
   "execution_count": 5,
   "metadata": {},
   "outputs": [
    {
     "data": {
      "image/png": "[encoded data removed]",
      "text/plain": [
       "<Figure size 432x288 with 1 Axes>"
      ]
     },
     "metadata": {
      "needs_background": "light"
     },
     "output_type": "display_data"
    }
   ],
   "source": [
    "particions = 30\n",
    "loops = 1000\n",
    "vect_c1 = np.linspace(-0.499,0.5,particions)\n",
    "vect_c2 = np.linspace(0.5,0.99,int(particions/2+1))\n",
    "vect_c2 = np.delete(vect_c2,0)\n",
    "vect_c = np.concatenate((vect_c1,vect_c2))\n",
    "\n",
    "n_promig0 = np.zeros(len(vect_c))\n",
    "n_promig1 = np.zeros(len(vect_c1))\n",
    "for k in range(len(vect_c)):\n",
    "    c = vect_c[k]\n",
    "    psi0 = np.array([np.sqrt((1-c)/3),np.sqrt((1-c)/3),np.sqrt((1+2*c)/3)])\n",
    "    psi1 = np.dot(U,psi0)\n",
    "    psi2 = np.dot(U,psi1)\n",
    "    states = [psi0,psi1,psi2]\n",
    "    \n",
    "    #Unambiguous\n",
    "    R = np.matrix([np.conj(psi0), np.conj(psi1), np.conj(psi2)])\n",
    "    invR = np.linalg.inv(R) \n",
    "\n",
    "    uphi0 = invR[:,0]\n",
    "    uphi1 = invR[:,1]\n",
    "    uphi2 = invR[:,2]\n",
    "    ephi0 = 1/(np.sqrt(3))*np.array([1,-1,0])\n",
    "    ephi1 = np.dot(U,ephi0)\n",
    "    ephi2 = np.dot(U,ephi1)\n",
    "    mu = np.amin((1-c,1+2*c))\n",
    "    \n",
    "    F0 = mu* np.tensordot(uphi0,np.transpose(np.conjugate(uphi0)), axes = 1)\n",
    "    F1 = mu* np.tensordot(uphi1,np.transpose(np.conjugate(uphi1)), axes = 1)\n",
    "    F2 = mu* np.tensordot(uphi2,np.transpose(np.conjugate(uphi2)), axes = 1)\n",
    "    if c <= 0:\n",
    "        E0 = -3*c/(1-c)*np.tensordot(ephi0,np.transpose(np.conjugate(ephi0)), axes = 0)\n",
    "        E1 = -3*c/(1-c)*np.tensordot(ephi1,np.transpose(np.conjugate(ephi1)), axes = 0)\n",
    "        E2 = -3*c/(1-c)*np.tensordot(ephi2,np.transpose(np.conjugate(ephi2)), axes = 0)\n",
    "        POVMs0 = [F0,F1,F2,E0,E1,E2]\n",
    "    else:\n",
    "        Fns = np.identity(3)-F0-F1-F2\n",
    "        POVMs0 = [F0,F1,F2,Fns]\n",
    "\n",
    "    #Excluding     \n",
    "    if c<=0.5:\n",
    "        angle = np.arccos((-1/2)*np.sqrt((1+2*c)/(1-c)))\n",
    "        excphi0 = 1/(np.sqrt(3))*np.array([cmath.exp(1j*angle),cmath.exp(-1j*angle),1])\n",
    "        excphi1 = np.dot(U,excphi0)\n",
    "        excphi2 = np.dot(U,excphi1)\n",
    "\n",
    "        E0 = np.tensordot(excphi0,np.transpose(np.conjugate(excphi0)), axes = 0)\n",
    "        E1 = np.tensordot(excphi1,np.transpose(np.conjugate(excphi1)), axes = 0)\n",
    "        E2 = np.tensordot(excphi2,np.transpose(np.conjugate(excphi2)), axes = 0)\n",
    "        POVMs1 = [E0,E1,E2]\n",
    "\n",
    "    errors0 = 0\n",
    "    errors1 = 0\n",
    "    n_tirades0 = []\n",
    "    n_tirades1 = []\n",
    "    for o in range(2):\n",
    "        if o == 1 and c<=0.5:\n",
    "            POVMs = POVMs1\n",
    "            errors = errors1\n",
    "\n",
    "        \n",
    "        else:\n",
    "            POVMs = POVMs0\n",
    "            errors = errors0\n",
    "        \n",
    "        prob_matrix = probability_matrix(states, POVMs)  \n",
    "        prob_matrix = np.around(prob_matrix, 10)\n",
    "        for i in range (loops):\n",
    "            estat = np.random.choice(3, p = priors)\n",
    "            m = 1\n",
    "            output = 0\n",
    "            tirs = np.zeros(len(POVMs))\n",
    "\n",
    "            tirades=[0]\n",
    "            while m >= 0:\n",
    "                output =  np.random.choice(len(POVMs), p = prob_matrix[estat,:])\n",
    "                tirades.append(output)\n",
    "                tirs[output] += 1\n",
    "                n = m\n",
    "\n",
    "                for i in range(3):\n",
    "                    if likelihood_ratio(tirs,prob_matrix,priors)[i]>=1-alpha:\n",
    "                        m = -10\n",
    "                        if i != estat:\n",
    "                            errors += 1\n",
    "                m+=1\n",
    "\n",
    "            if o == 1 and c<= 0.5:\n",
    "                n_tirades1.append(n)\n",
    "            elif o == 0:\n",
    "                n_tirades0.append(n)\n",
    "    n_promig0[k] =  np.sum(n_tirades0) /loops\n",
    "    if c<= 0.5:\n",
    "        n_promig1[k] =  np.sum(n_tirades1) /loops\n",
    "\n",
    "\n",
    "fig, ax = plt.subplots()\n",
    "ax.scatter(vect_c,n_promig0, label= \"Unambiguous measurement\")\n",
    "ax.scatter(vect_c1,n_promig1, label= \"Excluding measurement\")\n",
    "ax.set_xlabel(\"c\")\n",
    "ax.set_ylabel(\"<n>\")\n",
    "ax.set_ylim(0,10)\n",
    "ax.legend()\n",
    "plt.show()  "
   ]
  }
 ],
 "metadata": {
  "kernelspec": {
   "display_name": "Python 3",
   "language": "python",
   "name": "python3"
  },
  "language_info": {
   "codemirror_mode": {
    "name": "ipython",
    "version": 3
   },
   "file_extension": ".py",
   "mimetype": "text/x-python",
   "name": "python",
   "nbconvert_exporter": "python",
   "pygments_lexer": "ipython3",
   "version": "3.7.5"
  }
 },
 "nbformat": 4,
 "nbformat_minor": 4
}
