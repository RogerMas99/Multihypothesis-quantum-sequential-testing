{
 "cells": [
  {
   "cell_type": "markdown",
   "metadata": {},
   "source": [
    "# 4. Non symmetric qubits: expected value of n vs purity"
   ]
  },
  {
   "cell_type": "markdown",
   "metadata": {},
   "source": [
    "This notebook corresponds to the MSPRT applyied for three partially symmetric qubits. It considers two different measurements and compute the expected value of n vs purity for both of them.\n",
    "\n",
    "Cells 1-3 define the needed parameters and functions.\n",
    "\n",
    "Cell 4 computes a loop of sequential tests with fixed error and plots the average n vs purity for both measurements."
   ]
  },
  {
   "cell_type": "code",
   "execution_count": 1,
   "metadata": {},
   "outputs": [],
   "source": [
    "import numpy as np\n",
    "import matplotlib.pyplot as plt"
   ]
  },
  {
   "cell_type": "code",
   "execution_count": 2,
   "metadata": {},
   "outputs": [],
   "source": [
    "def Rotacio(omega,vector):\n",
    "    a = np.cos(omega)*vector[0]-np.sin(omega)*vector[1] \n",
    "    b = np.sin(omega)*vector[0]+np.cos(omega)*vector[1]\n",
    "    return np.array((a,b))\n",
    "\n",
    "def probabilitats(rho,pi,i):\n",
    "    A = np.zeros(len(pi))\n",
    "    for k in range(len(pi)):\n",
    "        A[k] = np.trace(np.dot(pi[k],rho[i]))\n",
    "    return abs(A)\n",
    "         \n",
    "def likelihood_ratio(tirs,prob_matrix, priors):\n",
    "    a,b,c = priors[0],priors[1],priors[2]\n",
    "    # prob_matrix[0].shape[1] és el nombre de outputs\n",
    "    for k in range(prob_matrix[0].shape[1]):\n",
    "        a *=  prob_matrix[0,k]**tirs[k]\n",
    "        b *=  prob_matrix[1,k]**tirs[k]\n",
    "        c *=  prob_matrix[2,k]**tirs[k]\n",
    "    return np.array((a/(a+b+c),b/(a+b+c), c/(a+b+c)))"
   ]
  },
  {
   "cell_type": "code",
   "execution_count": 3,
   "metadata": {},
   "outputs": [],
   "source": [
    "prior0= 1/3\n",
    "prior1 = 1/3\n",
    "prior2 = 1/3\n",
    "priors = [prior0,prior1,prior2]\n",
    "theta = np.pi\n",
    "omega = np.pi/2\n",
    "#\n",
    "psitheta0 = np.array((np.cos(theta/2), np.sin(theta/2)))\n",
    "psitheta1 = Rotacio(np.pi/3,psitheta0)\n",
    "psitheta2 = Rotacio(2*np.pi/3,psitheta0)\n",
    "pi0 = (2/3)*np.tensordot(psitheta0,psitheta0,axes=0)\n",
    "pi1 = (2/3)*np.tensordot(psitheta1,psitheta1,axes=0)\n",
    "pi2 = (2/3)*np.tensordot(psitheta2,psitheta2,axes=0)\n",
    "pis = [pi0,pi1,pi2]\n",
    "#\n",
    "ephi0 = np.array((0,1)) \n",
    "ephi1 = Rotacio(omega/2,ephi0)\n",
    "ephi2 = Rotacio(-omega/2,ephi0)\n",
    "epi0 = np.tensordot(ephi0,ephi0, axes = 0)\n",
    "epi1 = np.tensordot(ephi1,ephi1, axes = 0)\n",
    "epi2 = np.tensordot(ephi2,ephi2, axes = 0)\n",
    "esumpi = epi0+epi1+epi2\n",
    "w,v = np.linalg.eig(esumpi)\n",
    "mu = np.amax(w)\n",
    "\n",
    "E0 = (1/mu)*epi0\n",
    "E1 = (1/mu)*epi1\n",
    "E2 = (1/mu)*epi2\n",
    "Ed = np.identity(len(ephi0))-(1/mu)*esumpi\n",
    "Es = [E0,E1,E2,Ed]\n",
    "\n",
    "POVM = [pis,Es]"
   ]
  },
  {
   "cell_type": "code",
   "execution_count": 4,
   "metadata": {},
   "outputs": [
    {
     "data": {
      "image/png": "[encoded data removed]",
      "text/plain": [
       "<Figure size 432x288 with 1 Axes>"
      ]
     },
     "metadata": {
      "needs_background": "light"
     },
     "output_type": "display_data"
    }
   ],
   "source": [
    "particions = 10\n",
    "loops = 100\n",
    "alpha = 0.00001\n",
    "vsoroll = np.linspace(0.9,1,particions)\n",
    "    \n",
    "n_promig0 = np.zeros(particions)\n",
    "n_promig1 = np.zeros(particions)\n",
    "\n",
    "txt0 = np.zeros((particions,2))\n",
    "txt1 = np.zeros((particions,2))\n",
    "\n",
    "for k in range(particions): \n",
    "    r = np.repeat(vsoroll[k],3)\n",
    "    omega = 2*np.pi/4\n",
    "\n",
    "    psi0 = np.array((1,0))\n",
    "    psi1 = Rotacio(omega/2,psi0)\n",
    "    psi2 = Rotacio(-omega/2,psi0)\n",
    "    rho0 = r[0]*np.tensordot(psi0,psi0,axes = 0)+(1-r[0])*np.identity(2)/2\n",
    "    rho1 = r[1]*np.tensordot(psi1,psi1,axes = 0)+(1-r[1])*np.identity(2)/2\n",
    "    rho2 = r[2]*np.tensordot(psi2,psi2,axes = 0)+(1-r[2])*np.identity(2)/2\n",
    "    rho = [rho0,rho1,rho2]\n",
    "    for o in range(2):\n",
    "        pi = POVM[o]\n",
    "        prob_matrix = np.matrix([probabilitats(rho,pi,0),probabilitats(rho,pi,1),probabilitats(rho,pi,2)])\n",
    "        errors = 0\n",
    "        n_tirades = []\n",
    "        n_tirades0 = []\n",
    "        n_tirades1 = []\n",
    "        for i in range (loops):\n",
    "            estat = np.random.choice(3, p = priors)\n",
    "            m = 1\n",
    "            output = 0\n",
    "            tirs = np.zeros(len(pi))\n",
    "\n",
    "            tirades=[0]\n",
    "            while m >= 0:\n",
    "                output = np.random.choice(len(pi),p = probabilitats(rho,pi,estat))\n",
    "                tirades.append(output)\n",
    "                tirs[output] += 1\n",
    "\n",
    "                n = m\n",
    "\n",
    "                for i in range(3):\n",
    "                    if likelihood_ratio(tirs,prob_matrix,priors)[i]>=1-alpha:\n",
    "                        m = -10\n",
    "                        if i != estat:\n",
    "                            errors += 1\n",
    "                m+=1\n",
    "            n_tirades.append(n)\n",
    "        if o == 0:\n",
    "            n_promig0[k] = np.sum(n_tirades) /loops\n",
    "        elif o == 1:\n",
    "            n_promig1[k] = np.sum(n_tirades) /loops   \n",
    "        \n",
    "    txt0[k,0] = vsoroll[k]\n",
    "    txt0[k,1] = n_promig0[k]\n",
    "    txt1[k,0] = vsoroll[k]\n",
    "    txt1[k,1] = n_promig1[k]\n",
    "\n",
    "#np.savetxt(\"nvsnoise0.txt\",txt0)\n",
    "#np.savetxt(\"nvsnoise1.txt\",txt1)\n",
    "fig, ax = plt.subplots()\n",
    "ax.scatter(vsoroll,n_promig0, label= \"Symmetric measurement\")\n",
    "ax.scatter(vsoroll,n_promig1, label= \"Excluding measurement\")\n",
    "ax.set_xlabel(\"r\")\n",
    "ax.set_ylabel(\"<n>\")\n",
    "ax.legend()\n",
    "plt.show()"
   ]
  }
 ],
 "metadata": {
  "kernelspec": {
   "display_name": "Python 3",
   "language": "python",
   "name": "python3"
  },
  "language_info": {
   "codemirror_mode": {
    "name": "ipython",
    "version": 3
   },
   "file_extension": ".py",
   "mimetype": "text/x-python",
   "name": "python",
   "nbconvert_exporter": "python",
   "pygments_lexer": "ipython3",
   "version": "3.7.5"
  }
 },
 "nbformat": 4,
 "nbformat_minor": 4
}
