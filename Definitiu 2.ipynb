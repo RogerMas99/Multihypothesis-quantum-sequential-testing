{
 "cells": [
  {
   "cell_type": "markdown",
   "metadata": {},
   "source": [
    "# Graphical representations of a von Neumann measurement for symmetric qubits"
   ]
  },
  {
   "cell_type": "markdown",
   "metadata": {},
   "source": [
    "In this notebook MSPRT is applyied to three symmetric qubits using a von Neumann measurement. With the results two different graphical representations are generated.\n",
    "\n",
    "Cells 1-4 define the needed parameters and functions.\n",
    "\n",
    "Cell 5 computes the MSPRT that generates the data for the graphical representations.\n",
    "\n",
    "Cell 6 generates the gif of the triangle of probabilities. In my case the code does not compile in the notebook, to generate the gif I need to copy the code from cells 1-6 into a .py file and compile it.\n",
    "\n",
    "Cell 7 generates the random walk representation."
   ]
  },
  {
   "cell_type": "code",
   "execution_count": 1,
   "metadata": {},
   "outputs": [],
   "source": [
    "import numpy as np\n",
    "import matplotlib.pyplot as plt\n",
    "import matplotlib.animation as animation\n",
    "from matplotlib.animation import PillowWriter"
   ]
  },
  {
   "cell_type": "code",
   "execution_count": 2,
   "metadata": {},
   "outputs": [],
   "source": [
    "def Rotacio(omega,vector):\n",
    "    a = np.cos(omega)*vector[0]-np.sin(omega)*vector[1] \n",
    "    b = np.sin(omega)*vector[0]+np.cos(omega)*vector[1]\n",
    "    return np.array((a,b))\n",
    "                \n",
    "def probabilitats(rho,pi,i):\n",
    "    A = np.zeros(len(pi))\n",
    "    for k in range(len(pi)):\n",
    "        A[k] = np.trace(np.dot(pi[k],rho[i]))\n",
    "    return abs(A)\n",
    "    \n",
    "def likelihood_ratio(tirs,prob_matrix, priors):\n",
    "    a,b,c = priors[0],priors[1],priors[2]\n",
    "    # prob_matrix[0].shape[1] és el nombre de outputs\n",
    "    for k in range(prob_matrix[0].shape[1]):\n",
    "        a *=  prob_matrix[0,k]**tirs[k]\n",
    "        b *=  prob_matrix[1,k]**tirs[k]\n",
    "        c *=  prob_matrix[2,k]**tirs[k]\n",
    "    return np.array((a/(a+b+c),b/(a+b+c), c/(a+b+c)))\n",
    "\n"
   ]
  },
  {
   "cell_type": "code",
   "execution_count": 3,
   "metadata": {},
   "outputs": [],
   "source": [
    "def mAij(m,i,j, alpha,ps,priors):\n",
    "    return (np.log((1-alpha)/alpha)-np.log(priors[i]/priors[j])-m*np.log((1-ps[i])/(1-ps[j])))/(np.log(ps[i]/ps[j])-np.log((1-ps[i])/(1-ps[j])))\n",
    "def Rm(m, i, j, alpha, ps, priors): \n",
    "    return np.log((priors[i]/priors[j])*(1-alpha)/alpha)/(np.log(ps[j]/ps[i])-np.log((1-ps[j])/(1-ps[i])))+m*np.log((1-ps[i])/(1-ps[j]))/(np.log(ps[j]/ps[i])-np.log((1-ps[j])/(1-ps[i])))\n",
    "def Am(m, i, j, alpha, ps, priors): \n",
    "    return np.log((priors[j]/priors[i])*(alpha)/(1-alpha))/(np.log(ps[j]/ps[i])-np.log((1-ps[j])/(1-ps[i])))+m*np.log((1-ps[i])/(1-ps[j]))/(np.log(ps[j]/ps[i])-np.log((1-ps[j])/(1-ps[i])))\n",
    "def ordering(a,b):\n",
    "    c = np.argsort(a)\n",
    "    d=[]\n",
    "    for i in range (len(a)):\n",
    "        d.append(b[c[i]])\n",
    "    return d"
   ]
  },
  {
   "cell_type": "code",
   "execution_count": 4,
   "metadata": {},
   "outputs": [],
   "source": [
    "alpha = 0.001 #Error bound\n",
    "estat = 1\n",
    "theta = np.pi/7\n",
    "\n",
    "prior0= 1/3\n",
    "prior1 = 1/3\n",
    "prior2 = 1/3\n",
    "priors = [prior0,prior1,prior2]\n",
    "r0 = 1\n",
    "r1 = 1\n",
    "r2 = 1 \n",
    "r = [r0,r1,r2]\n",
    "#r = np.repeat(0.9,3)\n",
    "\n",
    "psi0 = np.array((1,0))\n",
    "psi1 = Rotacio(np.pi/3,psi0)\n",
    "psi2 = Rotacio(2*np.pi/3,psi0)\n",
    "rho0 = r[0]*np.tensordot(psi0,psi0,axes = 0)+(1-r[0])*np.identity(2)/2\n",
    "rho1 = r[1]*np.tensordot(psi1,psi1,axes = 0)+(1-r[1])*np.identity(2)/2\n",
    "rho2 = r[2]*np.tensordot(psi2,psi2,axes = 0)+(1-r[2])*np.identity(2)/2\n",
    "rho = [rho0,rho1,rho2]\n",
    "\n",
    "#symmetric POVM\n",
    "psitheta0 = np.array((np.cos(theta/2), np.sin(theta/2)))\n",
    "psitheta1 = Rotacio(np.pi/2,psitheta0)\n",
    "pi0 = np.tensordot(psitheta0,psitheta0,axes=0)\n",
    "pi1 = np.tensordot(psitheta1,psitheta1,axes=0)\n",
    "pi = [pi0,pi1]\n",
    "\n",
    "prob_matrix = np.matrix([probabilitats(rho,pi,0),probabilitats(rho,pi,1),probabilitats(rho,pi,2)])\n",
    "\n",
    "ps0 = np.array(prob_matrix[:,1])\n",
    "ps = np.ndarray.flatten(ps0)"
   ]
  },
  {
   "cell_type": "code",
   "execution_count": 5,
   "metadata": {},
   "outputs": [
    {
     "name": "stdout",
     "output_type": "stream",
     "text": [
      "n = 13\n",
      "State: 1\n",
      "[0, 1, 0, 0, 1, 0, 1, 0, 0, 0, 1, 1, 1]\n"
     ]
    }
   ],
   "source": [
    "m=1\n",
    "dm = 0\n",
    "tirs = np.zeros(2)\n",
    "\n",
    "p0 = likelihood_ratio(tirs,prob_matrix,priors)[0]\n",
    "p1 = likelihood_ratio(tirs,prob_matrix,priors)[1]\n",
    "p2 = likelihood_ratio(tirs,prob_matrix,priors)[2]\n",
    "x=[(p1+p0*np.sin(np.pi/6))/np.cos(np.pi/6)]\n",
    "y=[p0]\n",
    "\n",
    "tirades=[]\n",
    "comulative = [0]\n",
    "zn = 0\n",
    "while m >= 0:\n",
    "    \n",
    "    output =  np.random.choice(len(pi), p = probabilitats(rho,pi,estat))\n",
    "    tirades.append(output)\n",
    "    tirs[output] += 1\n",
    "    zn +=output\n",
    "    comulative.append(zn)\n",
    "    \n",
    "    n = m\n",
    "    \n",
    "    p0 = likelihood_ratio(tirs,prob_matrix,priors)[0]\n",
    "    p1 = likelihood_ratio(tirs,prob_matrix,priors)[1]\n",
    "    p2 = likelihood_ratio(tirs,prob_matrix,priors)[2]\n",
    "    x.append((p1+p0*np.sin(np.pi/6))/np.cos(np.pi/6))\n",
    "    y.append(p0)\n",
    "\n",
    "    \n",
    "    for i in range(3):\n",
    "        if likelihood_ratio(tirs,prob_matrix,priors)[i]>=1-alpha:\n",
    "            print('n = '+str(n))\n",
    "            print(\"State: \"+str(i))\n",
    "            m = -10\n",
    "    m+=1\n",
    "print(tirades)"
   ]
  },
  {
   "cell_type": "code",
   "execution_count": null,
   "metadata": {},
   "outputs": [],
   "source": [
    "#GIF TRIANGLE\n",
    "fig, ax= plt.subplots(figsize=(5.5, 4))\n",
    "fig.set_tight_layout(True)\n",
    "ims = []\n",
    "\n",
    "a = np.tan(np.pi/6)\n",
    "plt.plot([0,a],[0,1], c=\"blue\")\n",
    "plt.plot([0,2*a],[0,0], c=\"blue\")\n",
    "plt.plot([a,2*a],[1,0], c=\"blue\")\n",
    "plt.plot([a*(1-alpha),a*(1+alpha)],[1-alpha,1-alpha], c=\"black\", ls = \"--\")\n",
    "plt.text(a-0.04,1.05, \"H0\")\n",
    "plt.text(-0.13,0, \"H2\")\n",
    "plt.text(2*a+0.1,0, \"H1\")\n",
    "plt.xlim(-0.2,1.35)\n",
    "plt.ylim(-0.05,1.15)\n",
    "    \n",
    "for i in range(n+1):\n",
    "    im= plt.scatter(x[i], y[i], c = \"red\")\n",
    "    im2, = plt.plot(x[0:i],y[0:i], c = \"grey\", ls = \"--\")\n",
    "    ims.append([im,im2])\n",
    "    \n",
    "    \n",
    "ani = animation.ArtistAnimation(fig, ims, interval=500, blit=True,\n",
    "                                repeat_delay=5000)\n",
    "\n",
    "writer = PillowWriter(fps=20)\n",
    "ani.save(\"trianglequbits.gif\", writer = writer)"
   ]
  },
  {
   "cell_type": "code",
   "execution_count": 6,
   "metadata": {},
   "outputs": [
    {
     "data": {
      "image/png": "[encoded data removed]",
      "text/plain": [
       "<Figure size 432x288 with 1 Axes>"
      ]
     },
     "metadata": {
      "needs_background": "light"
     },
     "output_type": "display_data"
    }
   ],
   "source": [
    "#PLOT RANDOM WALK\n",
    "\n",
    "newps = np.sort(ps)\n",
    "newpriors = ordering(ps,priors)\n",
    "newindexs = np.argsort(ps)\n",
    "x1 = np.linspace(-10,100,num = 10000)\n",
    "x2 = np.linspace(x1[np.argmin(abs(Am(x1,1,0, alpha,newps,newpriors)-Rm(x1,2,1, alpha,newps,newpriors)))],100, num = 10000)\n",
    "x3 = np.linspace(2*x2[0],100,num = 10000)\n",
    "x4 = np.linspace(x2[0],2*x2[0],1000)\n",
    "\n",
    "NN = 500\n",
    "mm = np.linspace(x1[np.argmin(abs(Am(x1,1,0, alpha,newps,newpriors)-Rm(x1,2,1, alpha,newps,newpriors)))],2*x1[np.argmin(abs(Am(x1,1,0, alpha,newps,newpriors)-Rm(x1,2,1, alpha,newps,newpriors)))],2*NN)\n",
    "dmm = mm*Rm(x2[0],2,1, alpha,newps,newpriors)/x2[0]\n",
    "alpha1a, alpha1b, alpha2a, alpha2b = np.zeros((NN,2*NN)), np.zeros((NN,2*NN)),np.zeros((NN,2*NN)), np.zeros((NN,2*NN))\n",
    "ind1 = np.zeros(2*NN)\n",
    "ind2 = np.zeros(2*NN)\n",
    "ind3 = np.zeros(2*NN)\n",
    "xinicial = np.zeros(2*NN)\n",
    "for j in range(2*NN): #Numerical calculation of the bounds.\n",
    "    dm1 = np.linspace(Am(mm[j],1,0, alpha,newps,newpriors),mm[j]*Rm(x2[0],2,1, alpha,newps,newpriors)/x2[0],NN)\n",
    "    dm2 = np.linspace(mm[j]*Rm(x2[0],2,1, alpha,newps,newpriors)/x2[0],Rm(mm[j],2,1, alpha,newps,newpriors),NN)\n",
    "    for i in range(NN):\n",
    "        alpha1a[i,j] = ((newps[0]**dm1[i]*(1-newps[0])**(mm[j]-dm1[i]))/(newps[1]**dm1[i]*(1-newps[1])**(mm[j]-dm1[i])))/(1+((newps[0]**dm1[i]*(1-newps[0])**(mm[j]-dm1[i]))/(newps[1]**dm1[i]*(1-newps[1])**(mm[j]-dm1[i]))))\n",
    "        alpha1b[i,j] = ((newps[2]**dm1[i]*(1-newps[2])**(mm[j]-dm1[i]))/(newps[1]**dm1[i]*(1-newps[1])**(mm[j]-dm1[i])))/(1+((newps[2]**dm1[i]*(1-newps[2])**(mm[j]-dm1[i]))/(newps[1]**dm1[i]*(1-newps[1])**(mm[j]-dm1[i]))))\n",
    "        alpha2a[i,j] = ((newps[0]**dm2[i]*(1-newps[0])**(mm[j]-dm2[i]))/(newps[1]**dm2[i]*(1-newps[1])**(mm[j]-dm2[i])))/(1+((newps[0]**dm2[i]*(1-newps[0])**(mm[j]-dm2[i]))/(newps[1]**dm2[i]*(1-newps[1])**(mm[j]-dm2[i]))))\n",
    "        alpha2b[i,j] = ((newps[2]**dm2[i]*(1-newps[2])**(mm[j]-dm2[i]))/(newps[1]**dm2[i]*(1-newps[1])**(mm[j]-dm2[i])))/(1+((newps[2]**dm2[i]*(1-newps[2])**(mm[j]-dm2[i]))/(newps[1]**dm2[i]*(1-newps[1])**(mm[j]-dm2[i]))))\n",
    "    ind1[j] = dm1[np.argmin(abs(alpha-alpha1a[:,j]-alpha1b[:,j]))]\n",
    "    ind2[j] = dm2[np.argmin(abs(alpha-alpha2a[:,j]-alpha2b[:,j]))]\n",
    "    alphadmm = ((newps[0]**dmm[j]*(1-newps[0])**(mm[j]-dmm[j]))/(newps[1]**dmm[j]*(1-newps[1])**(mm[j]-dmm[j])))/(1+((newps[0]**dmm[j]*(1-newps[0])**(mm[j]-dmm[j]))/(newps[1]**dmm[j]*(1-newps[1])**(mm[j]-dmm[j]))))+((newps[2]**dmm[j]*(1-newps[2])**(mm[j]-dmm[j]))/(newps[1]**dmm[j]*(1-newps[1])**(mm[j]-dmm[j])))/(1+((newps[2]**dmm[j]*(1-newps[2])**(mm[j]-dmm[j]))/(newps[1]**dmm[j]*(1-newps[1])**(mm[j]-dmm[j]))))\n",
    "    xinicial[j] = alpha-alphadmm\n",
    "\n",
    "figg2 = plt.figure()\n",
    "fig2 = figg2.add_subplot(1,1,1)\n",
    "fig2.step(np.arange(len(comulative)),comulative, color = \"blue\")\n",
    "\n",
    "fig2.plot(x1,Rm(x1,1,0, alpha,newps,newpriors), color = \"orange\")\n",
    "#fig2.plot(x1,Rm(x1,2,0, alpha,newps,newpriors), color = \"orange\")\n",
    "fig2.plot(x3,Rm(x3,2,1, alpha,newps,newpriors), color = \"red\")\n",
    "fig2.plot(x3,Am(x3,1,0, alpha,newps,newpriors), color = \"orange\")\n",
    "#fig2.plot(x1,Am(x1,2,0, alpha,newps,newpriors), color = \"orange\")\n",
    "fig2.plot(x1,Am(x1,2,1, alpha,newps,newpriors), color = \"red\")\n",
    "fig2.plot(mm[np.argmin(abs(xinicial))-1:2*NN], ind1[np.argmin(abs(xinicial))-1:2*NN], color = \"orange\")\n",
    "#fig2.plot(mm, mm*Rm(x2[0],2,1, alpha,newps,newpriors)/x2[0])\n",
    "fig2.plot(mm[np.argmin(abs(xinicial))-1:2*NN], ind2[np.argmin(abs(xinicial))-1:2*NN], color = \"red\")\n",
    "fig2.plot(x4,Rm(x4,2,1, alpha,newps,newpriors), color = \"grey\", ls = \"--\")\n",
    "fig2.plot(x4,Am(x4,1,0, alpha,newps,newpriors), color = \"grey\", ls = \"--\")\n",
    "fig2.scatter(np.arange(len(comulative)),comulative, color = \"blue\", linewidths = 0.3)\n",
    "\n",
    "plt.xticks(np.arange(-100, 110, step=2))\n",
    "plt.xlim(-1,n+4)\n",
    "plt.ylim(-2,zn+3)\n",
    "pst = [\"H0\",\"H1\",\"H2\"]\n",
    "if 14<n+4 and 6.25<zn+3:\n",
    "    plt.text(14,6.25,pst[newindexs[1]])\n",
    "if 15<n+4 and -1<zn+3:\n",
    "    plt.text(15,-1,pst[newindexs[0]])\n",
    "if 2<n+4 and 8<zn+3:\n",
    "    plt.text(2,8,pst[newindexs[2]])\n",
    "plt.xlabel(\"n\")\n",
    "plt.ylabel(\"$\\mathregular{z_n}$\")\n",
    "plt.show()\n",
    "#figg2.savefig(\"plot.png\")"
   ]
  },
  {
   "cell_type": "code",
   "execution_count": null,
   "metadata": {},
   "outputs": [],
   "source": []
  }
 ],
 "metadata": {
  "kernelspec": {
   "display_name": "Python 3",
   "language": "python",
   "name": "python3"
  },
  "language_info": {
   "codemirror_mode": {
    "name": "ipython",
    "version": 3
   },
   "file_extension": ".py",
   "mimetype": "text/x-python",
   "name": "python",
   "nbconvert_exporter": "python",
   "pygments_lexer": "ipython3",
   "version": "3.7.5"
  }
 },
 "nbformat": 4,
 "nbformat_minor": 4
}
